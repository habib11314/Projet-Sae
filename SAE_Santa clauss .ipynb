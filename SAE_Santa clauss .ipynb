{
 "cells": [
  {
   "cell_type": "markdown",
   "metadata": {},
   "source": [
    "# <center> Santa Claus needs you!</center>\n",
    "<center> SAE 1.01 / 2023 - 24 </center>\n",
    "\n"
   ]
  },
  {
   "cell_type": "markdown",
   "metadata": {
    "deletable": false,
    "editable": false
   },
   "source": [
    "**Attendus**\n",
    "\n",
    "Les attendus de cette SAE sont que vous appreniez à \n",
    "- respecter un cahier des charges ;\n",
    "- écrire un code de qualité : efficace, lisible, documenté et testé sauf quand il s'agit d'affichages, de saisies ou de tirages aléatoires ;\n",
    " - travailler en groupe sur un projet : cette SAE est à faire en **binôme**. Vous devez néanmoins comprendre et connaître la totalité de ce qui est produit par le binôme.\n",
    "\n",
    "\n",
    "**Calendrier**\n",
    "- Le projet est à rendre au plus tard le vendredi **10 novembre** 2023. Les modalités de rendu vous seront précisées par votre enseignant.\n",
    "- Un contrôle de 2h en lien avec le contenu de cette SAE aura lieu le vendredi **10 novembre** 2023.\n",
    "\n",
    "**Evaluation**\n",
    "- Le projet comptera pour 40% de la note de SAE 1.01. <BR>\n",
    "Il sera particulièrement tenu compte de la qualité du code, des **commentaires** et **docstrings**, des fonctions de **tests unitaires** pour les fonctions renvoyant des résultats. <BR><BR>\n",
    "    \n",
    "- Le contrôle compte pour 60% de la note finale."
   ]
  },
  {
   "cell_type": "markdown",
   "metadata": {
    "deletable": false,
    "editable": false
   },
   "source": [
    "## <center> Sujet </center>\n",
    "\n",
    "Le Père Noël se fait vieux, il a besoin d'aider pour organiser sa distribution de cadeaux. Il vous prend à l'essai...\n",
    "\n",
    "L'objectif est de chercher une tournée des villes minimisant la distance parcourue par les rennes du Père Noël."
   ]
  },
  {
   "cell_type": "markdown",
   "metadata": {
    "deletable": false,
    "editable": false
   },
   "source": [
    "On décide de stocker les données sur les villes à visiter dans un tableau `villes` de chaînes de caractères et de flottants contenant successivement une ville (sous forme d'une chaîne de caractères), sa longitude et sa latitude (des flottants) en dégrés décimaux (DD) de sorte que `villes[3*i]` a pour longitude  `villes[3*i+1]` et pour latitude `villes[3*i+2]`.\n",
    "\n",
    "On suppose que chaque ville n'est présente qu'une seule fois dans le tableau.\n",
    "\n",
    "**Exemple** : "
   ]
  },
  {
   "cell_type": "code",
   "execution_count": 1,
   "metadata": {
    "deletable": false,
    "editable": false,
    "scrolled": true
   },
   "outputs": [],
   "source": [
    "villes = [\"Paris\",2.33,48.86, \"Lyon\",4.85,45.75, \n",
    "          \"Marseille\", 5.40,43.30, \"Lille\",3.06,50.63, \n",
    "          \"Strasbourg\",7.75,48.57, \"Rennes\",-1.66,48.11, \n",
    "          \"Clermont-Ferrand\",3.08,45.77, \"Bordeaux\", -0.57, 44.83]"
   ]
  },
  {
   "cell_type": "markdown",
   "metadata": {
    "deletable": false,
    "editable": false
   },
   "source": [
    "Ainsi\n",
    "- Paris a une longitude de 2,33 DD et une latitude de 48,86 DD.\n",
    "- Rennes a une longitude de -1,66 DD et une latitude de 48,11 DD."
   ]
  },
  {
   "cell_type": "markdown",
   "metadata": {
    "deletable": false,
    "editable": false
   },
   "source": [
    "#### Question préliminaire : Représentation des villes par un tableau\n",
    "\n",
    "- Ajouter dans le tableau précédent Toulouse dont la longitude est 1,43 DD et la latitude est 43,60 DD, ainsi que Grenoble dont la longitude est 5,72 DD et la latitude est 45,18 DD."
   ]
  },
  {
   "cell_type": "code",
   "execution_count": 2,
   "metadata": {
    "scrolled": true
   },
   "outputs": [
    {
     "name": "stdout",
     "output_type": "stream",
     "text": [
      "['Paris', 2.33, 48.86, 'Lyon', 4.85, 45.75, 'Marseille', 5.4, 43.3, 'Lille', 3.06, 50.63, 'Strasbourg', 7.75, 48.57, 'Rennes', -1.66, 48.11, 'Clermont-Ferrand', 3.08, 45.77, 'Bordeaux', -0.57, 44.83, 'Toulouse', 1.43, 43.6, 'Grenoble', 5.72, 45.18]\n"
     ]
    }
   ],
   "source": [
    "villes = [\"Paris\",2.33,48.86, \"Lyon\",4.85,45.75, \n",
    "          \"Marseille\", 5.40,43.30, \"Lille\",3.06,50.63, \n",
    "          \"Strasbourg\",7.75,48.57, \"Rennes\",-1.66,48.11, \n",
    "          \"Clermont-Ferrand\",3.08,45.77, \"Bordeaux\", -0.57, 44.83]\n",
    "# Ajouter Toulouse ainsi que sa longitude et sa lagitude au tableau \n",
    "villes.append(\"Toulouse\")\n",
    "villes.append(1.43)\n",
    "villes.append(43.60)\n",
    "villes.append(\"Grenoble\")\n",
    "villes.append(5.72)\n",
    "villes.append(45.18)\n",
    "\n",
    "# Afficher le tableau mise à jour\n",
    "print(villes)\n"
   ]
  },
  {
   "cell_type": "markdown",
   "metadata": {
    "deletable": false,
    "editable": false
   },
   "source": [
    "#### Question 1 : Nombre de villes à visiter\n",
    "\n",
    "- Étant donné un tableau `villes`, écrire une fonction `nb_villes(villes)` qui retourne le nombre de villes à visiter contenues dans le tableau `villes`. \n",
    "- Ecrire une fonction de tests unitaires permettant de vérifier cette fonction. "
   ]
  },
  {
   "cell_type": "code",
   "execution_count": 3,
   "metadata": {
    "scrolled": true
   },
   "outputs": [
    {
     "data": {
      "text/plain": [
       "10"
      ]
     },
     "execution_count": 3,
     "metadata": {},
     "output_type": "execute_result"
    }
   ],
   "source": [
    "def nb_villes(villes):\n",
    "    i = 0\n",
    "    nombre = 0\n",
    "    while i < len(villes):\n",
    "        nombre += 1\n",
    "        i += 3  # Avance de 3 pour passer à la ville suivante car il y'a la longitude et la lagitude a prendre en compte \n",
    "    return nombre\n",
    "\n",
    "nb_villes(villes)\n",
    "\n"
   ]
  },
  {
   "cell_type": "code",
   "execution_count": 4,
   "metadata": {},
   "outputs": [
    {
     "name": "stdout",
     "output_type": "stream",
     "text": [
      "Le nombre de villes est exacte!\n"
     ]
    }
   ],
   "source": [
    "def test_nb_villes():\n",
    "    assert nb_villes(villes) == 10\n",
    "    print(\"Le nombre de villes est exacte!\")\n",
    "    \n",
    "test_nb_villes() "
   ]
  },
  {
   "cell_type": "markdown",
   "metadata": {
    "deletable": false,
    "editable": false
   },
   "source": [
    "#### Question 2 : Tableaux des noms de villes à visiter\n",
    "\n",
    "- Étant donné un tableau `villes`, écrire une fonction `noms_villes(villes)` qui retourne le tableau des noms des villes à visiter contenues dans le tableau `villes`. \n",
    "- Ecrire une fonction de tests unitaires permettant de vérifier cette fonction. "
   ]
  },
  {
   "cell_type": "code",
   "execution_count": 5,
   "metadata": {
    "scrolled": true
   },
   "outputs": [
    {
     "data": {
      "text/plain": [
       "['Paris',\n",
       " 'Lyon',\n",
       " 'Marseille',\n",
       " 'Lille',\n",
       " 'Strasbourg',\n",
       " 'Rennes',\n",
       " 'Clermont-Ferrand',\n",
       " 'Bordeaux',\n",
       " 'Toulouse',\n",
       " 'Grenoble']"
      ]
     },
     "execution_count": 5,
     "metadata": {},
     "output_type": "execute_result"
    }
   ],
   "source": [
    "def noms_villes(villes):\n",
    "    noms = []  # On cree un tableau vide pour garder les noms des villes.\n",
    "    i = 0 \n",
    "\n",
    "    while i < len(villes):\n",
    "        noms.append(villes[i])  # Ajouter le nom de la ville au tableau\n",
    "        i += 3  # Avancer de 3 pour passer à la ville suivante car il y'a la lagitude et la longitude\n",
    "\n",
    "    return noms\n",
    "\n",
    "noms_villes(villes)\n",
    "\n"
   ]
  },
  {
   "cell_type": "code",
   "execution_count": 7,
   "metadata": {
    "scrolled": false
   },
   "outputs": [
    {
     "name": "stdout",
     "output_type": "stream",
     "text": [
      "Le nom des villes est exacte!\n"
     ]
    }
   ],
   "source": [
    "def test_noms_villes():\n",
    "    assert noms_villes(villes) == [\"Paris\", \"Lyon\", \"Marseille\", \"Lille\", \"Strasbourg\", \"Rennes\", \"Clermont-Ferrand\", \"Bordeaux\",\"Toulouse\",\"Grenoble\"]\n",
    "    print(\"Le nom des villes est exacte!\")\n",
    "\n",
    "test_noms_villes()"
   ]
  },
  {
   "cell_type": "markdown",
   "metadata": {
    "deletable": false,
    "editable": false,
    "run_control": {
     "frozen": true
    }
   },
   "source": [
    "#### Question 3 : Distance entre deux villes repérées par leurs longitude et latitude\n",
    "\n",
    "Pour calculer la distance $d$ entre deux villes $V_1$ (de longitude $long1$ et de latitude $lat1$) et $V_2$ (de longitude $long2$ et de latitude $lat2$) à partir de leurs longitude et latitude, on peut utiliser la formule suivante :\n",
    "\n",
    "$d=R*arccos(sin(lat1)*sin(lat2)+cos(lat1)*cos(lat2)*cos(long2-long1))$\n",
    "\n",
    "où le rayon de la terre $R$ vaut 6370.7km et les latitudes et longitudes sont exprimées en radians (en non en degrés décimaux).\n",
    "Cela correspond à la méthode de calcul avec la loi des sinus décrite [ici](http://villemin.gerard.free.fr/aGeograp/Distance.htm) \n",
    "\n",
    "Par exemple, Paris et Marseille sont distantes de 661,86 km.\n",
    "\n",
    "- Ecrire une fonction `distance(long1,lat1,long2,lat2)` qui calcule et retourne la distance entre deux villes $V_1$ (de longitude `long1` et `lat1`) et $V_2$ (de `long2`et `lat2`).\n",
    "\n",
    "**NB** Les fonctions `sin`, `cos` et le nombre `pi` sont définis dans la bibliothèque `math`. La fonction `arccos` est définie dans la bibliothèque `numpy`.\n",
    "\n",
    "Pour **convertir des degrés en radians**, il faut multiplier par $\\pi/180$.\n",
    "\n",
    "\n",
    "- Ecrire une fonction de tests unitaire permettant de vérifier cette fonction."
   ]
  },
  {
   "cell_type": "code",
   "execution_count": 10,
   "metadata": {
    "scrolled": true
   },
   "outputs": [
    {
     "data": {
      "text/plain": [
       "558.5472363339595"
      ]
     },
     "execution_count": 10,
     "metadata": {},
     "output_type": "execute_result"
    }
   ],
   "source": [
    "from math import*\n",
    "from numpy import*\n",
    "\n",
    "def distance(long1, lat1, long2, lat2):\n",
    "    R = 6370.7 # Rayon de la Terre en kilomètres\n",
    "    \n",
    "    # Conversion des latitudes et longitudes en radians\n",
    "    lat1 = lat1 * pi/180\n",
    "    long1 = long1 * pi/180\n",
    "    lat2 = lat2 * pi/180\n",
    "    long2 = long2 * pi/180\n",
    "\n",
    "    # Calcul de la distance en utilisant la formule donné\n",
    "    d = R*arccos(sin(lat1)*sin(lat2)+cos(lat1)*cos(lat2)*cos(long2-long1))\n",
    "   \n",
    "    return d\n",
    " # Calcule de la distance entre Lyon (long1=4.85, lat1=45.75) et Lille (long2= 3.06 , lat2= 50.63)\n",
    "distance(4.85,45.75,3.06,50.63)  # Appel de la fonction distance"
   ]
  },
  {
   "cell_type": "code",
   "execution_count": 8,
   "metadata": {},
   "outputs": [
    {
     "name": "stdout",
     "output_type": "stream",
     "text": [
      "Test de la fonction distance : ok\n"
     ]
    }
   ],
   "source": [
    "from math import*\n",
    "\n",
    "def test_distance():\n",
    "    # Distance entre Paris (long1=2.33, lat1=48.86) et Marseille (long2=5.40, lat2=43.30)\n",
    "    assert isclose(distance(2.33,48.86,5.40,43.30), 661.8616554466852) \n",
    "    # Distance entre Lyon (long1=4.85, lat1=45.75) et Lille (long2= 3.06 , lat2= 50.63)\n",
    "    assert isclose(distance(4.85,45.75,3.06,50.63), 558.5472363339595)\n",
    "    print(\"Test de la fonction distance : ok\")\n",
    "\n",
    "test_distance()  # AppeL de la fonction test_distance"
   ]
  },
  {
   "cell_type": "markdown",
   "metadata": {
    "deletable": false,
    "editable": false
   },
   "source": [
    "#### Question 4 : Coordonnées d'une ville dans le tableau `villes`\n",
    "\n",
    "a) Ecrire une fonction `indexCity(ville, villes)` qui retourne la position (l'indice) de la `ville` passée en paramètre dans le tableau `villes`. Elle retournera `-1` si la ville passée en paramètre n'est pas dans le tableau. Cette information pourra être utilisée dans la suite pour trouver la longitude et la latitude d'une ville donnée par son nom.\n",
    "\n",
    "Par exemple, \n",
    "- l'instruction `indexCity(\"Paris\", villes)` retournera `0`,\n",
    "- l'instruction `indexCity(\"Clermont-Ferrand\",villes)` retournera  `18`,\n",
    "- et l'instruction `indexCity(\"Villetaneuse\",villes)` retournera  `-1`.\n",
    "\n",
    "b) Ecrire une fonction de tests unitaire permettant de vérifier cette fonction."
   ]
  },
  {
   "cell_type": "code",
   "execution_count": 51,
   "metadata": {
    "scrolled": true
   },
   "outputs": [
    {
     "data": {
      "text/plain": [
       "-1"
      ]
     },
     "execution_count": 51,
     "metadata": {},
     "output_type": "execute_result"
    }
   ],
   "source": [
    "def indexCity(ville, villes):\n",
    "    i = 0\n",
    "\n",
    "    while i < len(villes):\n",
    "        if villes[i] == ville:\n",
    "            return i\n",
    "        i += 3  # Avance de 3 pour passer à la ville suivante car on prend en compte la ligitude et la longitude\n",
    "\n",
    "    return -1  # Retourne -1 si la ville n'est pas dans la liste\n",
    "\n",
    "indexCity(\"Villetaneuse\", villes)\n"
   ]
  },
  {
   "cell_type": "code",
   "execution_count": 7,
   "metadata": {},
   "outputs": [
    {
     "name": "stdout",
     "output_type": "stream",
     "text": [
      "Tous les position sont exacte!\n"
     ]
    },
    {
     "ename": "NameError",
     "evalue": "name 'indexCity' is not defined",
     "output_type": "error",
     "traceback": [
      "\u001b[1;31m---------------------------------------------------------------------------\u001b[0m",
      "\u001b[1;31mNameError\u001b[0m                                 Traceback (most recent call last)",
      "Cell \u001b[1;32mIn[7], line 15\u001b[0m\n\u001b[0;32m     12\u001b[0m     \u001b[38;5;28;01massert\u001b[39;00m indexCity(\u001b[38;5;124m\"\u001b[39m\u001b[38;5;124mVilletaneuse\u001b[39m\u001b[38;5;124m\"\u001b[39m, villes) \u001b[38;5;241m==\u001b[39m \u001b[38;5;241m-\u001b[39m\u001b[38;5;241m1\u001b[39m\n\u001b[0;32m     14\u001b[0m \u001b[38;5;28mprint\u001b[39m(\u001b[38;5;124m\"\u001b[39m\u001b[38;5;124mTous les position sont exacte!\u001b[39m\u001b[38;5;124m\"\u001b[39m)\n\u001b[1;32m---> 15\u001b[0m test_indexCity()\n",
      "Cell \u001b[1;32mIn[7], line 3\u001b[0m, in \u001b[0;36mtest_indexCity\u001b[1;34m()\u001b[0m\n\u001b[0;32m      1\u001b[0m \u001b[38;5;28;01mdef\u001b[39;00m \u001b[38;5;21mtest_indexCity\u001b[39m():\n\u001b[0;32m      2\u001b[0m      \u001b[38;5;66;03m# Test avec Paris\u001b[39;00m\n\u001b[1;32m----> 3\u001b[0m     \u001b[38;5;28;01massert\u001b[39;00m indexCity(\u001b[38;5;124m\"\u001b[39m\u001b[38;5;124mParis\u001b[39m\u001b[38;5;124m\"\u001b[39m, villes) \u001b[38;5;241m==\u001b[39m \u001b[38;5;241m0\u001b[39m\n\u001b[0;32m      5\u001b[0m     \u001b[38;5;66;03m# Test avec Clermont-Ferrand\u001b[39;00m\n\u001b[0;32m      6\u001b[0m     \u001b[38;5;28;01massert\u001b[39;00m indexCity(\u001b[38;5;124m\"\u001b[39m\u001b[38;5;124mClermont-Ferrand\u001b[39m\u001b[38;5;124m\"\u001b[39m, villes) \u001b[38;5;241m==\u001b[39m \u001b[38;5;241m18\u001b[39m\n",
      "\u001b[1;31mNameError\u001b[0m: name 'indexCity' is not defined"
     ]
    }
   ],
   "source": [
    "def test_indexCity():\n",
    "     # Test avec Paris\n",
    "    assert indexCity(\"Paris\", villes) == 0\n",
    "\n",
    "    # Test avec Clermont-Ferrand\n",
    "    assert indexCity(\"Clermont-Ferrand\", villes) == 18\n",
    "\n",
    "    # Test avec Toulouse\n",
    "    assert indexCity(\"Toulouse\", villes) == 24\n",
    "\n",
    "    # Test avec Villetaneuse qui n'est pas dans le tableau\n",
    "    assert indexCity(\"Villetaneuse\", villes) == -1\n",
    "\n",
    "print(\"Tous les position sont exacte!\")\n",
    "test_indexCity()  # Appel de la fonction  test_indexCity()"
   ]
  },
  {
   "cell_type": "markdown",
   "metadata": {
    "deletable": false,
    "editable": false
   },
   "source": [
    "#### Question 5 : Distance entre deux villes données par leurs noms\n",
    "\n",
    "- Ecrire une fonction `distance_noms(nom1,nom2, villes)` qui calcule et retourne la distance entre deux villes $V_1$ et $V_2$ appelées `nom1` et `nom2` dans le tableau `villes`. La fonction retournera `-1` si une de ces villes n'est pas dans le tableau.\n",
    "- Ecrire une fonction de tests unitaires permettant de vérifier cette fonction."
   ]
  },
  {
   "cell_type": "code",
   "execution_count": 52,
   "metadata": {},
   "outputs": [
    {
     "data": {
      "text/plain": [
       "322.16190104927256"
      ]
     },
     "execution_count": 52,
     "metadata": {},
     "output_type": "execute_result"
    }
   ],
   "source": [
    "from math import*\n",
    "\n",
    "def distance_noms(nom1, nom2, villes):\n",
    "    vèille1 = indexCity(nom1, villes)\n",
    "    ville2 = indexCity(nom2, villes)\n",
    "\n",
    "    if ville1 == -1 or ville2 == -1:\n",
    "        return -1\n",
    "\n",
    "    long1 = villes[ville1 + 1] # Ajoute 1 a la position de ville 1 pour avoir  sa longitude\n",
    "    lat1 = villes[ville1 + 2]  # Ajoute 2 a la position de ville 1 pour avoir  sa lagitude\n",
    "    long2 = villes[ville2 + 1] # Ajoute 1 a la position de ville 2 pour avoir  sa longitude\n",
    "    lat2 = villes[ville2 + 2]  # Ajoute 2 a la position de ville 2 pour avoir  sa lagitude\n",
    "\n",
    "    return distance(long1, lat1, long2, lat2)\n",
    "\n",
    "distance_noms(\"Marseille\", \"Toulouse\", villes)"
   ]
  },
  {
   "cell_type": "code",
   "execution_count": 53,
   "metadata": {},
   "outputs": [
    {
     "name": "stdout",
     "output_type": "stream",
     "text": [
      "Test de la fonction distance : ok\n",
      "Test de la fonction distance Marseille et Toulouse : ok\n",
      "Test de la fonction distance Paris et Valenciennes : ok\n"
     ]
    }
   ],
   "source": [
    "def test_distance_noms():\n",
    "    \n",
    "    assert distance_noms(\"Paris\", \"Marseille\", villes) == 661.8616554466852 \n",
    "    print(\"Test de la fonction distance : ok\")\n",
    "    assert distance_noms(\"Marseille\", \"Toulouse\", villes) == 322.16190104927256\n",
    "    print(\"Test de la fonction distance Marseille et Toulouse : ok\")\n",
    "    assert distance_noms(\"Paris\", \"Valenciennes\", villes) == -1\n",
    "    print(\"Test de la fonction distance Paris et Valenciennes : ok\")\n",
    "\n",
    "test_distance_noms()  "
   ]
  },
  {
   "cell_type": "markdown",
   "metadata": {
    "deletable": false,
    "editable": false
   },
   "source": [
    "#### Question 6 :  Lecture des villes d'une tournée à partir d'un fichier\n",
    "On suppose que les données sur les villes où doit se rendre le Père Noël réseau sont stockées dans un fichier CSV de la manière suivante :\n",
    "```\n",
    "ville1;longitude1;latitude1\n",
    "ville2;longitude2;latitude2\n",
    "ville3;longitude3;latitude3\n",
    "...\n",
    "```\n",
    "Autrement dit, chaque ligne du fichier contient le nom d'une ville, sa longitude et sa latitude en degrés décimaux, ces données étant séparées par des `';'`. Ces villes sont celles que le Père Noël doit desservir\n",
    "\n",
    "**NB** : Six fichiers CSV de ce type sont fournis dans le répertoire `files/`, il s'agit des fichiers `africa.csv`, `asia.csv`,`europe.csv`, `north-america`, `oceania.csv` and `south-america.csv`. \n",
    "Il est recommandé d'en fabriquer d'autres. \n",
    "\n",
    "- Ecrire une fonction `lecture_villes(path)` prenant en paramètre un chemin vers un tel fichier CSV et retournant un tableau contenant les informations sur les villes à visiter."
   ]
  },
  {
   "cell_type": "code",
   "execution_count": 13,
   "metadata": {},
   "outputs": [
    {
     "data": {
      "text/plain": [
       "['Algiers;3.04;36.75\\n',\n",
       " 'Luanda;13.23;-8.84\\n',\n",
       " 'Porto-Novo;2.6;6.5\\n',\n",
       " 'Gaborone;25.91;-24.65\\n',\n",
       " 'Ouagadougou;-1.53;12.37\\n',\n",
       " 'Bujumbura;29.36;-3.38\\n',\n",
       " 'YaoundÃ©;11.52;3.87\\n',\n",
       " 'Praia;-23.51;14.93\\n',\n",
       " 'Bangui;18.55;4.36\\n',\n",
       " \"N'Djamena;15.04;12.11\\n\",\n",
       " 'Moroni;43.26;-11.7\\n',\n",
       " 'Kinshasa;15.31;-4.32\\n',\n",
       " 'Djibouti;43.15;11.59\\n',\n",
       " 'Cairo;31.25;30.06\\n',\n",
       " 'Malabo;8.78;3.75\\n',\n",
       " 'Asmara;38.93;15.33\\n',\n",
       " 'Addis Ababa;38.75;9.02\\n',\n",
       " 'Libreville;9.45;0.39\\n',\n",
       " 'Banjul;-16.58;13.45\\n',\n",
       " 'Accra;-0.2;5.56\\n',\n",
       " 'Conakry;-13.68;9.54\\n',\n",
       " 'Bissau;-15.6;11.86\\n',\n",
       " 'Yamoussoukro;-5.28;6.82\\n',\n",
       " 'Nairobi;36.82;-1.28\\n',\n",
       " 'Maseru;27.48;-29.32\\n',\n",
       " 'Monrovia;-10.8;6.3\\n',\n",
       " 'Tripoli;13.19;32.88\\n',\n",
       " 'Antananarivo;47.54;-18.91\\n',\n",
       " 'Lilongwe;33.79;-13.97\\n',\n",
       " 'Bamako;-8;12.65\\n',\n",
       " 'Nouakchott;-15.98;18.09\\n',\n",
       " 'Port Louis;57.5;-20.16\\n',\n",
       " 'Mamoutzou;45.23;-12.78\\n',\n",
       " 'Rabat;-6.83;34.01\\n',\n",
       " 'Maputo;32.58;-25.97\\n',\n",
       " 'Windhoek;17.08;-22.56\\n',\n",
       " 'Niamey;2.11;13.51\\n',\n",
       " 'Abuja;7.48;9.07\\n',\n",
       " 'Brazzaville;15.28;-4.27\\n',\n",
       " 'Saint-Denis;55.45;-20.88\\n',\n",
       " 'Kigali;30.06;-1.95\\n',\n",
       " 'Jamestown;-5.72;-15.94\\n',\n",
       " 'SÃ£o TomÃ©;6.73;0.34\\n',\n",
       " 'Dakar;-17.44;14.69\\n',\n",
       " 'Victoria;55.45;-4.62\\n',\n",
       " 'Freetown;-13.23;8.48\\n',\n",
       " 'Mogadishu;45.34;2.04\\n',\n",
       " 'Pretoria;28.19;-25.74\\n',\n",
       " 'Khartoum;32.53;15.55\\n',\n",
       " 'Mbabane;31.13;-26.32\\n',\n",
       " 'Dodoma;35.74;-6.17\\n',\n",
       " 'LomÃ©;1.21;6.14\\n',\n",
       " 'Tunis;10.17;36.82\\n',\n",
       " 'Kampala;32.58;0.32\\n',\n",
       " 'El AaiÃºn;-13.2;27.16\\n',\n",
       " 'Lusaka;28.29;-15.41\\n',\n",
       " 'Harare;31.05;-17.83\\n']"
      ]
     },
     "execution_count": 13,
     "metadata": {},
     "output_type": "execute_result"
    }
   ],
   "source": [
    "from csv import*\n",
    "\n",
    "def lecture_villes(path):\n",
    "    f=open(path)\n",
    "    t=f.readlines()\n",
    "    f.close()\n",
    "    for i in range(len(t)):\n",
    "        ville_visite=(t[i].strip())\n",
    "    return t\n",
    "lecture_villes(\"C:/Users/PC/Downloads/africa.csv\")"
   ]
  },
  {
   "cell_type": "markdown",
   "metadata": {
    "deletable": false,
    "editable": false
   },
   "source": [
    "#### Question 7 : Longueur d'une tournée\n",
    "\n",
    "On considère que le Père Noël peut partir de n'importe laquelle des villes qu'il doit visiter et qu'il doit revenir à son point de départ à la fin de la tournée. Lors de sa tournée, il doit visiter chacune des villes dont les informations sont contenues dans le tableau `villes` une fois et une seule. \n",
    "\n",
    "On représente une tournée possible sous la forme d'un tableau `tournee` contenant le nom des villes dans l'ordre où le Père Noël les visitera sans oublier de revenir à la ville dont il est parti. \n",
    "\n",
    "L'objectif est de calculer la longueur d'une tournée. \n",
    "\n",
    "- Ecrire une fonction `long_tour(villes, tournee)` qui prend en paramètres le tableau `villes` contenant les informations sur les villes à visiter et le tableau `tournee` indiquant l'ordre dans lequel les villes sont visitées. La fonction retourne la longueur de la tournée correspondante.\n",
    "\n",
    "- Ecrire une fonction de tests unitaires permettant de vérifier cette fonction."
   ]
  },
  {
   "cell_type": "code",
   "execution_count": 9,
   "metadata": {},
   "outputs": [
    {
     "data": {
      "text/plain": [
       "937.7413091210004"
      ]
     },
     "execution_count": 9,
     "metadata": {},
     "output_type": "execute_result"
    }
   ],
   "source": [
    "from math import*\n",
    "from numpy import*\n",
    "\n",
    "def distance(long1, lat1, long2, lat2):\n",
    "    R = 6370.7 # Rayon de la Terre en kilomètres\n",
    "    \n",
    "    # Conversion des latitudes et longitudes en radians\n",
    "    lat1 = lat1 * pi/180\n",
    "    long1 = long1 * pi/180\n",
    "    lat2 = lat2 * pi/180\n",
    "    long2 = long2 * pi/180\n",
    "\n",
    "    # Calcul de la distance en utilisant la formule donné\n",
    "    d = R*arccos(sin(lat1)*sin(lat2)+cos(lat1)*cos(lat2)*cos(long2-long1))\n",
    "   \n",
    "    return d\n",
    "def indexCity(ville, villes):\n",
    "    i = 0\n",
    "\n",
    "    while i < len(villes):\n",
    "        if villes[i] == ville:\n",
    "            return i\n",
    "        i += 3  # Avance de 3 pour passer à la ville suivante car on prend en compte la ligitude et la longitude\n",
    "\n",
    "    return -1  # Retourne -1 si la ville n'est pas dans la liste\n",
    "\n",
    "indexCity(\"Clermont-Ferrand\", villes)\n",
    "\n",
    "def distance_noms(nom1, nom2, villes):\n",
    "    ville1 = indexCity(nom1, villes)\n",
    "    ville2 = indexCity(nom2, villes)\n",
    "\n",
    "    if ville1 == -1 or ville2 == -1:\n",
    "        return -1\n",
    "\n",
    "    long1 = villes[ville1 + 1] # Ajoute 1 a la position de ville 1 pour avoir  sa longitude\n",
    "    lat1 = villes[ville1 + 2]  # Ajoute 2 a la position de ville 1 pour avoir  sa lagitude\n",
    "    long2 = villes[ville2 + 1] # Ajoute 1 a la position de ville 2 pour avoir  sa longitude\n",
    "    lat2 = villes[ville2 + 2]  # Ajoute 2 a la position de ville 2 pour avoir  sa lagitude\n",
    "\n",
    "    return distance(long1, lat1, long2, lat2)\n",
    "    \n",
    "    \n",
    "def long_tour(villes,tournee):\n",
    "    \n",
    "    i=0\n",
    "    distance_totale=0\n",
    "    while i<len(tournee)-1:\n",
    "        distance_totale+=distance_noms(tournee[i],tournee[i+1],villes)\n",
    "        i+=1\n",
    "    return distance_totale\n",
    "        \n",
    "tournee=[\"Paris\",\"Marseille\",\"Lyon\"]\n",
    "villes = [\"Paris\",2.33,48.86, \"Lyon\",4.85,45.75, \n",
    "          \"Marseille\", 5.40,43.30, \"Lille\",3.06,50.63, \n",
    "          \"Strasbourg\",7.75,48.57, \"Rennes\",-1.66,48.11, \n",
    "          \"Clermont-Ferrand\",3.08,45.77, \"Bordeaux\", -0.57, 44.83,\"Grenoble\",5.72, 45.18]\n",
    "long_tour(villes,tournee)\n",
    "\n",
    "\n"
   ]
  },
  {
   "cell_type": "markdown",
   "metadata": {
    "deletable": false,
    "editable": false
   },
   "source": [
    "#### Question 8 : Recherche d'une plus courte tournée \n",
    "\n",
    "Pour améliorer la longueur de la tournée, on peut essayer de changer l'ordre des villes aléatoirement. Pour une tournée donnée par un tableau `tournee` cela peut se faire avec la fonction `shuffle` de la bibliothèque `random` qui mélange aléatoirement les villes qui sont dans le tableau `tournee`, grâce à l'instruction  `shuffle(tournee)`, et ne retourne rien.\n",
    "\n",
    "- Utiliser cette fonction pour écrire un programme qui cherche une tournée plus courte à proposer au Père Noël. \n",
    "- Comment la solution s'améliore-t-elle en fonction de nombre de tentatives de mélange ? "
   ]
  },
  {
   "cell_type": "code",
   "execution_count": 56,
   "metadata": {
    "scrolled": true
   },
   "outputs": [
    {
     "ename": "SyntaxError",
     "evalue": "invalid syntax (2064749326.py, line 1)",
     "output_type": "error",
     "traceback": [
      "\u001b[1;36m  Cell \u001b[1;32mIn[56], line 1\u001b[1;36m\u001b[0m\n\u001b[1;33m    pip install folium\u001b[0m\n\u001b[1;37m        ^\u001b[0m\n\u001b[1;31mSyntaxError\u001b[0m\u001b[1;31m:\u001b[0m invalid syntax\n"
     ]
    }
   ],
   "source": [
    "from random import *\n",
    "from math import *\n",
    "from numpy import *\n",
    "\n",
    "\n",
    "def distance(long1, lat1, long2, lat2):\n",
    "    R = 6370.7  # Rayon de la Terre en kilomètres\n",
    "\n",
    "    # Conversion des latitudes et longitudes en radians\n",
    "    lat1 = lat1 * pi / 180\n",
    "    long1 = long1 * pi / 180\n",
    "    lat2 = lat2 * pi / 180\n",
    "    long2 = long2 * pi / 180\n",
    "\n",
    "    # Calcul de la distance en utilisant la formule donné\n",
    "    d = R * arccos(sin(lat1) * sin(lat2) + cos(lat1) * cos(lat2) * cos(long2 - long1))\n",
    "\n",
    "    return d\n",
    "\n",
    "\n",
    "def indexCity(ville, villes):\n",
    "    compteur = 0\n",
    "    fini = True\n",
    "    while compteur < len(villes) and fini == True:\n",
    "        if villes[compteur] != ville:\n",
    "            compteur += 1\n",
    "        else:\n",
    "            fini = False\n",
    "\n",
    "    if compteur == len(villes):\n",
    "        return (-1)\n",
    "    else:\n",
    "        return (compteur)\n",
    "\n",
    "\n",
    "def distance_noms(nom1, nom2, villes):\n",
    "    ville1 = indexCity(nom1, villes)\n",
    "    ville2 = indexCity(nom2, villes)\n",
    "\n",
    "    if ville1 == -1 or ville2 == -1:\n",
    "        return -1\n",
    "\n",
    "    long1 = villes[ville1 + 1]  # Ajoute 1 a la position de ville 1 pour avoir  sa longitude\n",
    "    lat1 = villes[ville1 + 2]  # Ajoute 2 a la position de ville 1 pour avoir  sa lagitude\n",
    "    long2 = villes[ville2 + 1]  # Ajoute 1 a la position de ville 2 pour avoir  sa longitude\n",
    "    lat2 = villes[ville2 + 2]  # Ajoute 2 a la position de ville 2 pour avoir  sa lagitude\n",
    "\n",
    "    return distance(long1, lat1, long2, lat2)\n",
    "\n",
    "\n",
    "def long_tour(villes, tournee):\n",
    "    distance_min = 0\n",
    "    for i in range(9):\n",
    "        shuffle(tournee)\n",
    "        distance = 0\n",
    "        for y in range(len(tournee)-1):\n",
    "            distance += distance_noms(tournee[y], tournee[y + 1], villes)\n",
    "\n",
    "        if distance_min == 0 or distance_min > distance :\n",
    "            distance_min = distance\n",
    "\n",
    "    return distance_min\n",
    "\n",
    "tournee = [\"Strasbourg\", \"Marseille\", \"Bordeaux\"]\n",
    "villes = [\"Paris\", 2.33, 48.86, \"Lyon\", 4.85, 45.75,\n",
    "          \"Marseille\", 5.40, 43.30, \"Lille\", 3.06, 50.63,\n",
    "          \"Strasbourg\", 7.75, 48.57, \"Rennes\", -1.66, 48.11,\n",
    "          \"Clermont-Ferrand\", 3.08, 45.77, \"Bordeaux\", -0.57, 44.83]\n",
    "long_tour(villes, tournee)\n",
    "\n"
   ]
  },
  {
   "cell_type": "markdown",
   "metadata": {},
   "source": [
    "#### Question Bonus (facultative) : Visualisation de la tournée proposée au Père Noël \n",
    "\n",
    "Pour faciliter le travail du Père Noël, vous décidez de lui fournir une carte où est représentée la tournée sélectionnée. \n",
    "\n",
    "Pour cela, on peut (mais ce ne n'est qu'une suggestion) utiliser la bibliothèque [`folium`](https://python-visualization.github.io/folium/latest/getting_started.html). Vous pouvez également utiliser tout autre bibliothèque de votre choix.\n",
    "\n",
    "- Ecrire un programme permettant la visualisation de la tournée proposée au Père Noël"
   ]
  },
  {
   "cell_type": "code",
   "execution_count": null,
   "metadata": {},
   "outputs": [],
   "source": []
  }
 ],
 "metadata": {
  "kernelspec": {
   "display_name": "Python 3 (ipykernel)",
   "language": "python",
   "name": "python3"
  },
  "language_info": {
   "codemirror_mode": {
    "name": "ipython",
    "version": 3
   },
   "file_extension": ".py",
   "mimetype": "text/x-python",
   "name": "python",
   "nbconvert_exporter": "python",
   "pygments_lexer": "ipython3",
   "version": "3.11.5"
  },
  "latex_envs": {
   "LaTeX_envs_menu_present": true,
   "autoclose": false,
   "autocomplete": true,
   "bibliofile": "biblio.bib",
   "cite_by": "apalike",
   "current_citInitial": 1,
   "eqLabelWithNumbers": true,
   "eqNumInitial": 1,
   "hotkeys": {
    "equation": "Ctrl-E",
    "itemize": "Ctrl-I"
   },
   "labels_anchors": false,
   "latex_user_defs": false,
   "report_style_numbering": false,
   "user_envs_cfg": false
  }
 },
 "nbformat": 4,
 "nbformat_minor": 2
}
